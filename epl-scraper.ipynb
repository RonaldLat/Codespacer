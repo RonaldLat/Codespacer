{
  "nbformat": 4,
  "nbformat_minor": 0,
  "metadata": {
    "colab": {
      "provenance": [],
      "collapsed_sections": [],
      "authorship_tag": "ABX9TyONhKtQycYb+aQD3Z+3D85O",
      "include_colab_link": true
    },
    "kernelspec": {
      "name": "python3",
      "display_name": "Python 3"
    },
    "language_info": {
      "name": "python"
    }
  },
  "cells": [
    {
      "cell_type": "markdown",
      "metadata": {
        "id": "view-in-github",
        "colab_type": "text"
      },
      "source": [
        "<a href=\"https://colab.research.google.com/github/RonaldLat/Codespacer/blob/main/epl-scraper.ipynb\" target=\"_parent\"><img src=\"https://colab.research.google.com/assets/colab-badge.svg\" alt=\"Open In Colab\"/></a>"
      ]
    },
    {
      "cell_type": "code",
      "execution_count": 46,
      "metadata": {
        "id": "FF3UoMP5S3oX"
      },
      "outputs": [],
      "source": [
        "import requests\n",
        "from bs4 import BeautifulSoup\n",
        "url = \"https://fbref.com/en/comps/9/nations/Premier-League-Nationalities\""
      ]
    },
    {
      "cell_type": "code",
      "source": [
        "r = requests.get(url)"
      ],
      "metadata": {
        "id": "LgP_j8J5TWET"
      },
      "execution_count": 47,
      "outputs": []
    },
    {
      "cell_type": "code",
      "source": [
        "soup = BeautifulSoup(r.content, 'html.parser')"
      ],
      "metadata": {
        "id": "yEwSjxyDTcLQ"
      },
      "execution_count": 48,
      "outputs": []
    },
    {
      "cell_type": "code",
      "source": [
        "print(soup.title.text)"
      ],
      "metadata": {
        "colab": {
          "base_uri": "https://localhost:8080/"
        },
        "id": "ZKIoGM2-Tnjn",
        "outputId": "ded13f4b-f9f1-4eb6-94ed-11c07e75dd6c"
      },
      "execution_count": 49,
      "outputs": [
        {
          "output_type": "stream",
          "name": "stdout",
          "text": [
            "Premier League Player Nationalities | FBref.com\n"
          ]
        }
      ]
    },
    {
      "cell_type": "code",
      "source": [
        "table_rows = soup.find_all('tr')"
      ],
      "metadata": {
        "id": "IdfydSMlVLMy"
      },
      "execution_count": 50,
      "outputs": []
    },
    {
      "cell_type": "code",
      "source": [
        "data = []"
      ],
      "metadata": {
        "id": "CCCjOdceVWx3"
      },
      "execution_count": 51,
      "outputs": []
    },
    {
      "cell_type": "code",
      "source": [
        "def single_nation(row):\n",
        "  print(row.text)\n",
        "  "
      ],
      "metadata": {
        "id": "2QZHoEwTbLs3"
      },
      "execution_count": 52,
      "outputs": []
    },
    {
      "cell_type": "code",
      "source": [
        "for row in table_rows:\n",
        "  try:\n",
        "    if row.find_all('th')[0]['aria-label'] == 'Rk':\n",
        "      pass\n",
        "      # print(\"header\")\n",
        "  except:\n",
        "    print(row.find('td',{'data-stat':'nationality'}).span.text[3:].strip())\n",
        "    print(row.find('td',{'data-stat':'players'}).text)\n",
        "    players = row.find_all('td',{'data-stat':'List'},'a')\n",
        "    for player in players:\n",
        "      print(player.text)\n",
        "\n",
        "    print('----------')\n",
        "\n",
        "    # print('error')\n",
        "\n",
        "\n",
        "  # else:\n",
        "    # print('row')\n",
        "  # break"
      ],
      "metadata": {
        "colab": {
          "base_uri": "https://localhost:8080/"
        },
        "id": "MPFHFC8xhurG",
        "outputId": "3a60f9a0-4c33-4c66-ff00-4829cb8b5c65"
      },
      "execution_count": 84,
      "outputs": [
        {
          "output_type": "stream",
          "name": "stdout",
          "text": [
            "England\n",
            "169\n",
            "Ivan Toney, Harry Kane, Marcus Rashford, Raheem Sterling, Jack Harrison, Phil Foden, Bukayo Saka, Ollie Watkins, James Ward-Prowse, James Maddison ...\n",
            "----------\n",
            "Brazil\n",
            "30\n",
            "Gabriel Jesus, Roberto Firmino, Martinelli, Thiago Silva, Gabriel Dos Santos, Joelinton, Emerson, Andreas Pereira, Ederson, Alisson ...\n",
            "----------\n",
            "France\n",
            "29\n",
            "William Saliba, Bryan Mbeumo, Allan Saint-Maximin, Hugo Lloris, Kurt Zouma, Lucas Digne, Illan Meslier, Boubacar Kamara, Raphaël Varane, Odsonne Édouard ...\n",
            "----------\n",
            "Spain\n",
            "25\n",
            "Rodrigo, Rodri, Marc Cucurella, Pablo Fornals, Marc Roca, Diego Llorente, David Raya, David de Gea, Vicente Guaita, Robert Sánchez ...\n",
            "----------\n",
            "Portugal\n",
            "23\n",
            "Bernardo Silva, Bruno Fernandes, Rúben Neves, Diogo Dalot, João Palhinha, João Cancelo, José Sá, Daniel Podence, Rúben Dias, Pedro Neto ...\n",
            "----------\n",
            "Scotland\n",
            "17\n",
            "Che Adams, Scott McKenna, Nathan Patterson, Andrew Robertson, Scott McTominay, Aaron Hickey, John McGinn, Ryan Christie, Stuart Armstrong, Kieran Tierney ...\n",
            "----------\n",
            "Wales\n",
            "15\n",
            "Brennan Johnson, Danny Ward, Neco Williams, Ben Davies, Chris Mepham, Kieffer Moore, Daniel James, Owen Bevan, Chem Campbell, Wayne Hennessey ...\n",
            "----------\n",
            "Denmark\n",
            "13\n",
            "Pierre Højbjerg, Mathias Jensen, Joachim Andersen, Christian Eriksen, Philip Billing, Rasmus Nissen, Christian Nørgaard, Mathias Jørgensen, Mads Roerslev, Mikkel Damsgaard ...\n",
            "----------\n",
            "Republic of Ireland\n",
            "13\n",
            "Gavin Bazunu, Nathan Collins, Mark Travers, Matt Doherty, Shane Duffy, Conor Coventry, Séamus Coleman, Connor Ronan, Evan Ferguson, Joseph Hodge ...\n",
            "----------\n",
            "Netherlands\n",
            "12\n",
            "Kenny Tete, Virgil van Dijk, Pascal Struijk, Joël Veltman, Tyrell Malacia, Sven Botman, Nathan Aké, Crysencio Summerville, Donny van de Beek, Jan Paul van Hecke ...\n",
            "----------\n",
            "Germany\n",
            "10\n",
            "Pascal Groß, İlkay Gündoğan, Armel Bella Kotchap, Robin Koch, Kai Havertz, Vitaly Janelt, Bernd Leno, Thilo Kehrer, Deniz Undav, Stefan Ortega\n",
            "----------\n",
            "Belgium\n",
            "10\n",
            "Kevin De Bruyne, Leandro Trossard, Roméo Lavia, Youri Tielemans, Timothy Castagne, Amadou Onana, Leander Dendoncker, Albert Sambi Lokonga, Orel Mangala, Dennis Praet\n",
            "----------\n",
            "Argentina\n",
            "8\n",
            "Alexis Mac Allister, Emiliano Martínez, Lisandro Martínez, Emi Buendía, Julián Álvarez, Cristian Romero, Marcos Senesi, Manuel Lanzini\n",
            "----------\n",
            "Sweden\n",
            "8\n",
            "Dejan Kulusevski, Pontus Jansson, Anthony Elanga, Alexander Isak, Emil Krafth, Ludwig Augustinsson, Robin Olsen, Victor Lindelöf\n",
            "----------\n",
            "United States\n",
            "7\n",
            "Brenden Aaronson, Tyler Adams, Tim Ream, Antonee Robinson, Christian Pulisic, Chris Richards, Matt Turner\n",
            "----------\n",
            "Nigeria\n",
            "7\n",
            "Alex Iwobi, Joe Aribo, Wilfred Ndidi, Kelechi Iheanacho, Taiwo Awoniyi, Frank Onyeka, Emmanuel Dennis\n",
            "----------\n",
            "Colombia\n",
            "7\n",
            "Luis Díaz, Jefferson Lerma, Luis Sinisterra, Davinson Sánchez, Yerry Mina, Yerson Mosquera, Steven Alzate\n",
            "----------\n",
            "Norway\n",
            "6\n",
            "Erling Haaland, Martin Ødegaard, Mohamed Elyounoussi, Kristoffer Klaesson, Leo Fuhr Hjelde, Kristoffer Ajer\n",
            "----------\n",
            "Senegal\n",
            "6\n",
            "Edouard Mendy, Kalidou Koulibaly, Cheikhou Kouyaté, Idrissa Gana Gueye, Nampalys Mendy, Pape Matar Sarr\n",
            "----------\n",
            "Côte d'Ivoire\n",
            "6\n",
            "Wilfried Zaha, Maxwel Cornet, Willy Boly, Siriki Dembélé, Jean-Philippe Gbamin, Nicolas Pépé\n",
            "----------\n",
            "Ghana\n",
            "5\n",
            "Mohammed Salisu, Jeffrey Schlupp, Jordan Ayew, Daniel Amartey, Thomas Partey\n",
            "----------\n",
            "Jamaica\n",
            "4\n",
            "Bobby Reid, Michail Antonio, Leon Bailey, Jamal Lowe\n",
            "----------\n",
            "Poland\n",
            "4\n",
            "Łukasz Fabiański, Matty Cash, Jan Bednarek, Mateusz Klich\n",
            "----------\n",
            "Switzerland\n",
            "4\n",
            "Granit Xhaka, Fabian Schär, Kevin Mbabu, Remo Freuler\n",
            "----------\n",
            "Mali\n",
            "4\n",
            "Cheick Doucouré, Moussa Djenepo, Abdoulaye Doucouré, Yves Bissouma\n",
            "----------\n",
            "Italy\n",
            "4\n",
            "Jorginho, Gianluca Scamacca, Emerson Palmieri, Angelo Ogbonna\n",
            "----------\n",
            "Czech Republic\n",
            "3\n",
            "Tomáš Souček, Vladimír Coufal, Matej Kovar\n",
            "----------\n",
            "Ecuador\n",
            "3\n",
            "Moisés Caicedo, Pervis Estupiñán, Jeremy Sarmiento\n",
            "----------\n",
            "Croatia\n",
            "3\n",
            "Ivan Perišić, Mateo Kovačić, Nikola Vlašić\n",
            "----------\n",
            "Ukraine\n",
            "2\n",
            "Vitaliy Mykolenko, Oleksandr Zinchenko\n",
            "----------\n",
            "Korea Republic\n",
            "2\n",
            "Son Heung-min, Hwang Hee-chan\n",
            "----------\n",
            "Congo DR\n",
            "2\n",
            "Yoane Wissa, Neeskens Kebano\n",
            "----------\n",
            "Egypt\n",
            "2\n",
            "Mohamed Salah, Mohamed Elneny\n",
            "----------\n",
            "Uruguay\n",
            "2\n",
            "Rodrigo Bentancur, Darwin Núñez\n",
            "----------\n",
            "Serbia\n",
            "2\n",
            "Aleksandar Mitrović, Luka Milivojević\n",
            "----------\n",
            "Northern Ireland\n",
            "2\n",
            "Jonny Evans, Jamal Lewis\n",
            "----------\n",
            "Algeria\n",
            "2\n",
            "Saïd Benrahma, Riyad Mahrez\n",
            "----------\n",
            "Paraguay\n",
            "2\n",
            "Miguel Almirón, Julio César Enciso\n",
            "----------\n",
            "Zimbabwe\n",
            "2\n",
            "Jordan Zemura, Marvelous Nakamba\n",
            "----------\n",
            "Zambia\n",
            "2\n",
            "Patson Daka, Enock Mwepu\n",
            "----------\n",
            "Slovakia\n",
            "2\n",
            "Marek Rodák, Martin Dúbravka\n",
            "----------\n",
            "Japan\n",
            "2\n",
            "Takehiro Tomiyasu, Kaoru Mitoma\n",
            "----------\n",
            "Albania\n",
            "2\n",
            "Armando Broja, Thomas Strakosha\n",
            "----------\n",
            "Turkey\n",
            "2\n",
            "Halil Dervişoğlu, Çağlar Söyüncü\n",
            "----------\n",
            "Mexico\n",
            "1\n",
            "Raúl Jiménez\n",
            "----------\n",
            "Grenada\n",
            "1\n",
            "Shandon Baptiste\n",
            "----------\n",
            "Greece\n",
            "1\n",
            "Kostas Tsimikas\n",
            "----------\n",
            "New Zealand\n",
            "1\n",
            "Chris Wood\n",
            "----------\n",
            "Morocco\n",
            "1\n",
            "Hakim Ziyech\n",
            "----------\n",
            "Cameroon\n",
            "1\n",
            "Joël Matip\n",
            "----------\n",
            "Venezuela\n",
            "1\n",
            "Salomón Rondón\n",
            "----------\n",
            "Austria\n",
            "1\n",
            "Sasa Kalajdzic\n",
            "----------\n",
            "Israel\n",
            "1\n",
            "Manor Solomon\n",
            "----------\n",
            "IR Iran\n",
            "1\n",
            "Saman Ghoddos\n",
            "----------\n",
            "Australia\n",
            "1\n",
            "Tyrese Francois\n",
            "----------\n",
            "Bosnia and Herzegovina\n",
            "1\n",
            "Asmir Begović\n",
            "----------\n",
            "Finland\n",
            "1\n",
            "Terry Ablade\n",
            "----------\n",
            "Guinea\n",
            "1\n",
            "Naby Keïta\n",
            "----------\n",
            "Liberia\n",
            "1\n",
            "Christian Saydee\n",
            "----------\n",
            "Montenegro\n",
            "1\n",
            "Matija Šarkić\n",
            "----------\n",
            "Montserrat\n",
            "1\n",
            "Lyle Taylor\n",
            "----------\n",
            "Sri Lanka\n",
            "1\n",
            "Carney Chukwuemeka\n",
            "----------\n"
          ]
        }
      ]
    },
    {
      "cell_type": "code",
      "source": [
        "for row in table_rows:\n",
        "  print(row.find_all('th')[0]['aria-label'])\n",
        "  break\n"
      ],
      "metadata": {
        "id": "V-o_Gklxbtz1",
        "colab": {
          "base_uri": "https://localhost:8080/"
        },
        "outputId": "9373e922-fd27-4f93-8569-39f71a215a01"
      },
      "execution_count": 57,
      "outputs": [
        {
          "output_type": "stream",
          "name": "stdout",
          "text": [
            "Rk\n"
          ]
        }
      ]
    }
  ]
}